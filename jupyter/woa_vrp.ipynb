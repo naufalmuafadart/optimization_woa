{
 "cells": [
  {
   "cell_type": "code",
   "execution_count": 1,
   "id": "initial_id",
   "metadata": {
    "collapsed": true,
    "ExecuteTime": {
     "end_time": "2024-03-13T04:28:48.726920Z",
     "start_time": "2024-03-13T04:28:48.096097Z"
    }
   },
   "outputs": [],
   "source": [
    "from datetime import date, datetime, timedelta\n",
    "\n",
    "import pandas as pd\n",
    "import numpy as np\n",
    "\n",
    "import random\n",
    "import copy\n",
    "import math"
   ]
  },
  {
   "cell_type": "markdown",
   "source": [
    "# Read dataset place"
   ],
   "metadata": {
    "collapsed": false
   },
   "id": "e943afa64922e508"
  },
  {
   "cell_type": "code",
   "outputs": [
    {
     "data": {
      "text/plain": "   id                       name      type  latitude   longitude  tarif  \\\n0   1       MALIOBORO JOGJAKARTA  location -7.792576  110.365843      0   \n1   2     Tourism Zone Malioboro  location -7.798249  110.365279      0   \n2   3           Plengkung Gading  location -7.813728  110.362907      0   \n3   4  Bringin Kembar Yogyakarta  location -7.811936  110.363194      0   \n4   5      Rumah Hantu Malioboro  location -7.795638  110.365354  35000   \n\n   durasi  rating  \n0    5400     4.8  \n1    3600     4.7  \n2    1800     4.6  \n3    5400     4.6  \n4    2700     4.5  ",
      "text/html": "<div>\n<style scoped>\n    .dataframe tbody tr th:only-of-type {\n        vertical-align: middle;\n    }\n\n    .dataframe tbody tr th {\n        vertical-align: top;\n    }\n\n    .dataframe thead th {\n        text-align: right;\n    }\n</style>\n<table border=\"1\" class=\"dataframe\">\n  <thead>\n    <tr style=\"text-align: right;\">\n      <th></th>\n      <th>id</th>\n      <th>name</th>\n      <th>type</th>\n      <th>latitude</th>\n      <th>longitude</th>\n      <th>tarif</th>\n      <th>durasi</th>\n      <th>rating</th>\n    </tr>\n  </thead>\n  <tbody>\n    <tr>\n      <th>0</th>\n      <td>1</td>\n      <td>MALIOBORO JOGJAKARTA</td>\n      <td>location</td>\n      <td>-7.792576</td>\n      <td>110.365843</td>\n      <td>0</td>\n      <td>5400</td>\n      <td>4.8</td>\n    </tr>\n    <tr>\n      <th>1</th>\n      <td>2</td>\n      <td>Tourism Zone Malioboro</td>\n      <td>location</td>\n      <td>-7.798249</td>\n      <td>110.365279</td>\n      <td>0</td>\n      <td>3600</td>\n      <td>4.7</td>\n    </tr>\n    <tr>\n      <th>2</th>\n      <td>3</td>\n      <td>Plengkung Gading</td>\n      <td>location</td>\n      <td>-7.813728</td>\n      <td>110.362907</td>\n      <td>0</td>\n      <td>1800</td>\n      <td>4.6</td>\n    </tr>\n    <tr>\n      <th>3</th>\n      <td>4</td>\n      <td>Bringin Kembar Yogyakarta</td>\n      <td>location</td>\n      <td>-7.811936</td>\n      <td>110.363194</td>\n      <td>0</td>\n      <td>5400</td>\n      <td>4.6</td>\n    </tr>\n    <tr>\n      <th>4</th>\n      <td>5</td>\n      <td>Rumah Hantu Malioboro</td>\n      <td>location</td>\n      <td>-7.795638</td>\n      <td>110.365354</td>\n      <td>35000</td>\n      <td>2700</td>\n      <td>4.5</td>\n    </tr>\n  </tbody>\n</table>\n</div>"
     },
     "execution_count": 2,
     "metadata": {},
     "output_type": "execute_result"
    }
   ],
   "source": [
    "df_places = pd.read_csv('../Dataset/places.csv')\n",
    "df_places.head()"
   ],
   "metadata": {
    "collapsed": false,
    "ExecuteTime": {
     "end_time": "2024-03-13T04:28:48.793653Z",
     "start_time": "2024-03-13T04:28:48.726920Z"
    }
   },
   "id": "14c9297133f644e",
   "execution_count": 2
  },
  {
   "cell_type": "code",
   "outputs": [
    {
     "data": {
      "text/plain": "array(['location', 'hotel'], dtype=object)"
     },
     "execution_count": 3,
     "metadata": {},
     "output_type": "execute_result"
    }
   ],
   "source": [
    "df_places.type.unique()"
   ],
   "metadata": {
    "collapsed": false,
    "ExecuteTime": {
     "end_time": "2024-03-13T04:28:48.797249Z",
     "start_time": "2024-03-13T04:28:48.793653Z"
    }
   },
   "id": "bb91bbf5eab35638",
   "execution_count": 3
  },
  {
   "cell_type": "code",
   "outputs": [
    {
     "data": {
      "text/plain": "id             int64\nname          object\ntype          object\nlatitude     float64\nlongitude    float64\ntarif          int64\ndurasi         int64\nrating       float64\ndtype: object"
     },
     "execution_count": 4,
     "metadata": {},
     "output_type": "execute_result"
    }
   ],
   "source": [
    "df_places.dtypes"
   ],
   "metadata": {
    "collapsed": false,
    "ExecuteTime": {
     "end_time": "2024-03-13T04:28:48.801838Z",
     "start_time": "2024-03-13T04:28:48.797249Z"
    }
   },
   "id": "20ae5c1a938c571c",
   "execution_count": 4
  },
  {
   "cell_type": "markdown",
   "source": [
    "# Read dataset timematrix"
   ],
   "metadata": {
    "collapsed": false
   },
   "id": "9f31cb66b58af121"
  },
  {
   "cell_type": "code",
   "outputs": [
    {
     "data": {
      "text/plain": "   id  id_a  id_b  durasi\n0   1     1     1       0\n1   2     1     2     134\n2   3     1     3     605\n3   4     1     4     595\n4   5     1     5      79",
      "text/html": "<div>\n<style scoped>\n    .dataframe tbody tr th:only-of-type {\n        vertical-align: middle;\n    }\n\n    .dataframe tbody tr th {\n        vertical-align: top;\n    }\n\n    .dataframe thead th {\n        text-align: right;\n    }\n</style>\n<table border=\"1\" class=\"dataframe\">\n  <thead>\n    <tr style=\"text-align: right;\">\n      <th></th>\n      <th>id</th>\n      <th>id_a</th>\n      <th>id_b</th>\n      <th>durasi</th>\n    </tr>\n  </thead>\n  <tbody>\n    <tr>\n      <th>0</th>\n      <td>1</td>\n      <td>1</td>\n      <td>1</td>\n      <td>0</td>\n    </tr>\n    <tr>\n      <th>1</th>\n      <td>2</td>\n      <td>1</td>\n      <td>2</td>\n      <td>134</td>\n    </tr>\n    <tr>\n      <th>2</th>\n      <td>3</td>\n      <td>1</td>\n      <td>3</td>\n      <td>605</td>\n    </tr>\n    <tr>\n      <th>3</th>\n      <td>4</td>\n      <td>1</td>\n      <td>4</td>\n      <td>595</td>\n    </tr>\n    <tr>\n      <th>4</th>\n      <td>5</td>\n      <td>1</td>\n      <td>5</td>\n      <td>79</td>\n    </tr>\n  </tbody>\n</table>\n</div>"
     },
     "execution_count": 5,
     "metadata": {},
     "output_type": "execute_result"
    }
   ],
   "source": [
    "df_time_matrix = pd.read_csv('../Dataset/place_timematrix.csv')\n",
    "df_time_matrix.head()"
   ],
   "metadata": {
    "collapsed": false,
    "ExecuteTime": {
     "end_time": "2024-03-13T04:28:48.815994Z",
     "start_time": "2024-03-13T04:28:48.802855Z"
    }
   },
   "id": "9c2364b1ebccf853",
   "execution_count": 5
  },
  {
   "cell_type": "code",
   "outputs": [
    {
     "data": {
      "text/plain": "id        int64\nid_a      int64\nid_b      int64\ndurasi    int64\ndtype: object"
     },
     "execution_count": 6,
     "metadata": {},
     "output_type": "execute_result"
    }
   ],
   "source": [
    "df_time_matrix.dtypes"
   ],
   "metadata": {
    "collapsed": false,
    "ExecuteTime": {
     "end_time": "2024-03-13T04:28:48.820327Z",
     "start_time": "2024-03-13T04:28:48.815994Z"
    }
   },
   "id": "36e8a180325096a1",
   "execution_count": 6
  },
  {
   "cell_type": "markdown",
   "source": [
    "# Read dataset schedule"
   ],
   "metadata": {
    "collapsed": false
   },
   "id": "8da11cac7021a575"
  },
  {
   "cell_type": "code",
   "outputs": [
    {
     "data": {
      "text/plain": "   id  id_tempat jam_buka jam_tutup   hari\n0   1          1    00:00     23:59  senin\n1   2          2    00:00     23:59  senin\n2   3          3    00:00     23:59  senin\n3   4          4    00:00     23:59  senin\n4   5          5    16:00     18:00  senin",
      "text/html": "<div>\n<style scoped>\n    .dataframe tbody tr th:only-of-type {\n        vertical-align: middle;\n    }\n\n    .dataframe tbody tr th {\n        vertical-align: top;\n    }\n\n    .dataframe thead th {\n        text-align: right;\n    }\n</style>\n<table border=\"1\" class=\"dataframe\">\n  <thead>\n    <tr style=\"text-align: right;\">\n      <th></th>\n      <th>id</th>\n      <th>id_tempat</th>\n      <th>jam_buka</th>\n      <th>jam_tutup</th>\n      <th>hari</th>\n    </tr>\n  </thead>\n  <tbody>\n    <tr>\n      <th>0</th>\n      <td>1</td>\n      <td>1</td>\n      <td>00:00</td>\n      <td>23:59</td>\n      <td>senin</td>\n    </tr>\n    <tr>\n      <th>1</th>\n      <td>2</td>\n      <td>2</td>\n      <td>00:00</td>\n      <td>23:59</td>\n      <td>senin</td>\n    </tr>\n    <tr>\n      <th>2</th>\n      <td>3</td>\n      <td>3</td>\n      <td>00:00</td>\n      <td>23:59</td>\n      <td>senin</td>\n    </tr>\n    <tr>\n      <th>3</th>\n      <td>4</td>\n      <td>4</td>\n      <td>00:00</td>\n      <td>23:59</td>\n      <td>senin</td>\n    </tr>\n    <tr>\n      <th>4</th>\n      <td>5</td>\n      <td>5</td>\n      <td>16:00</td>\n      <td>18:00</td>\n      <td>senin</td>\n    </tr>\n  </tbody>\n</table>\n</div>"
     },
     "execution_count": 7,
     "metadata": {},
     "output_type": "execute_result"
    }
   ],
   "source": [
    "df_schedule = pd.read_csv('../Dataset/place_jadwal.csv')\n",
    "df_schedule.head()"
   ],
   "metadata": {
    "collapsed": false,
    "ExecuteTime": {
     "end_time": "2024-03-13T04:28:48.828970Z",
     "start_time": "2024-03-13T04:28:48.821327Z"
    }
   },
   "id": "6b0da6bb6a6bc920",
   "execution_count": 7
  },
  {
   "cell_type": "code",
   "outputs": [
    {
     "data": {
      "text/plain": "id            int64\nid_tempat     int64\njam_buka     object\njam_tutup    object\nhari         object\ndtype: object"
     },
     "execution_count": 8,
     "metadata": {},
     "output_type": "execute_result"
    }
   ],
   "source": [
    "df_schedule.dtypes"
   ],
   "metadata": {
    "collapsed": false,
    "ExecuteTime": {
     "end_time": "2024-03-13T04:28:48.833651Z",
     "start_time": "2024-03-13T04:28:48.830042Z"
    }
   },
   "id": "7535eaabf634c3c2",
   "execution_count": 8
  },
  {
   "cell_type": "code",
   "outputs": [
    {
     "data": {
      "text/plain": "   id  id_tempat  jam_buka  jam_tutup   hari\n0   1          1         0      86340  senin\n1   2          2         0      86340  senin\n2   3          3         0      86340  senin\n3   4          4         0      86340  senin\n4   5          5     57600      64800  senin",
      "text/html": "<div>\n<style scoped>\n    .dataframe tbody tr th:only-of-type {\n        vertical-align: middle;\n    }\n\n    .dataframe tbody tr th {\n        vertical-align: top;\n    }\n\n    .dataframe thead th {\n        text-align: right;\n    }\n</style>\n<table border=\"1\" class=\"dataframe\">\n  <thead>\n    <tr style=\"text-align: right;\">\n      <th></th>\n      <th>id</th>\n      <th>id_tempat</th>\n      <th>jam_buka</th>\n      <th>jam_tutup</th>\n      <th>hari</th>\n    </tr>\n  </thead>\n  <tbody>\n    <tr>\n      <th>0</th>\n      <td>1</td>\n      <td>1</td>\n      <td>0</td>\n      <td>86340</td>\n      <td>senin</td>\n    </tr>\n    <tr>\n      <th>1</th>\n      <td>2</td>\n      <td>2</td>\n      <td>0</td>\n      <td>86340</td>\n      <td>senin</td>\n    </tr>\n    <tr>\n      <th>2</th>\n      <td>3</td>\n      <td>3</td>\n      <td>0</td>\n      <td>86340</td>\n      <td>senin</td>\n    </tr>\n    <tr>\n      <th>3</th>\n      <td>4</td>\n      <td>4</td>\n      <td>0</td>\n      <td>86340</td>\n      <td>senin</td>\n    </tr>\n    <tr>\n      <th>4</th>\n      <td>5</td>\n      <td>5</td>\n      <td>57600</td>\n      <td>64800</td>\n      <td>senin</td>\n    </tr>\n  </tbody>\n</table>\n</div>"
     },
     "execution_count": 9,
     "metadata": {},
     "output_type": "execute_result"
    }
   ],
   "source": [
    "df_schedule['jam_buka'] = df_schedule['jam_buka'].apply(lambda x: int(x[:2]) * 3600 + int(x[3:]) * 60)\n",
    "df_schedule['jam_tutup'] = df_schedule['jam_tutup'].apply(lambda x: int(x[:2]) * 3600 + int(x[3:]) * 60)\n",
    "df_schedule.head()"
   ],
   "metadata": {
    "collapsed": false,
    "ExecuteTime": {
     "end_time": "2024-03-13T04:28:48.841567Z",
     "start_time": "2024-03-13T04:28:48.833651Z"
    }
   },
   "id": "519f115d3885fe84",
   "execution_count": 9
  },
  {
   "cell_type": "code",
   "outputs": [
    {
     "data": {
      "text/plain": "id            int64\nid_tempat     int64\njam_buka      int64\njam_tutup     int64\nhari         object\ndtype: object"
     },
     "execution_count": 10,
     "metadata": {},
     "output_type": "execute_result"
    }
   ],
   "source": [
    "df_schedule.dtypes"
   ],
   "metadata": {
    "collapsed": false,
    "ExecuteTime": {
     "end_time": "2024-03-13T04:28:48.845886Z",
     "start_time": "2024-03-13T04:28:48.841567Z"
    }
   },
   "id": "a1a6338b94d9ccc5",
   "execution_count": 10
  },
  {
   "cell_type": "markdown",
   "source": [
    "# Parameters"
   ],
   "metadata": {
    "collapsed": false
   },
   "id": "571e89894b68ac5a"
  },
  {
   "cell_type": "code",
   "outputs": [],
   "source": [
    "AGENT_COUNT = 10\n",
    "MAX_ITERATIONS = 10\n",
    "HOTEL_ID = 111\n",
    "DEPART_TIME = 8 * 3600\n",
    "ARRIVAL_TIME = 21 * 3600\n",
    "START_DATE = date(year=2023, month=10, day=1)\n",
    "SELECTED_POI = [1, 6, 7, 8, 12, 37, 39, 45, 57, 61, 65, 72, 77, 94, 95]\n",
    "AGENT_LENGTH = len(SELECTED_POI)\n",
    "DAYS_COUNT = 3\n",
    "\n",
    "DOI_DURATION = 0.3\n",
    "DOI_COST = 0.2\n",
    "DOI_RATING = 0.5\n",
    "DOI_POI_INCLUDED = 1\n",
    "TOTAL_DOI = DOI_DURATION + DOI_COST + DOI_RATING + DOI_POI_INCLUDED\n",
    "DOI_DURATION = DOI_DURATION / TOTAL_DOI\n",
    "DOI_COST = DOI_COST / TOTAL_DOI\n",
    "DOI_RATING = DOI_RATING / TOTAL_DOI\n",
    "DOI_POI_INCLUDED = DOI_POI_INCLUDED / TOTAL_DOI"
   ],
   "metadata": {
    "collapsed": false,
    "ExecuteTime": {
     "end_time": "2024-03-13T04:28:48.849503Z",
     "start_time": "2024-03-13T04:28:48.846074Z"
    }
   },
   "id": "39a5cef32f5106d5",
   "execution_count": 11
  },
  {
   "cell_type": "markdown",
   "source": [
    "# Functions"
   ],
   "metadata": {
    "collapsed": false
   },
   "id": "8e4e1839389cd44b"
  },
  {
   "cell_type": "markdown",
   "source": [
    "Function to get pois cost"
   ],
   "metadata": {
    "collapsed": false
   },
   "id": "ecf390831b21ded6"
  },
  {
   "cell_type": "code",
   "outputs": [
    {
     "data": {
      "text/plain": "[0, 35000, 0]"
     },
     "execution_count": 82,
     "metadata": {},
     "output_type": "execute_result"
    }
   ],
   "source": [
    "def get_pois_cost(_id):\n",
    "    return df_places[df_places['id'].isin(_id)]['tarif'].tolist()\n",
    "get_pois_cost([4, 5, 9])"
   ],
   "metadata": {
    "collapsed": false,
    "ExecuteTime": {
     "end_time": "2024-03-13T04:51:37.571751Z",
     "start_time": "2024-03-13T04:51:37.567797Z"
    }
   },
   "id": "b42a352930644ab3",
   "execution_count": 82
  },
  {
   "cell_type": "markdown",
   "source": [
    "Function to get pois rating"
   ],
   "metadata": {
    "collapsed": false
   },
   "id": "af014e4cbcad9e31"
  },
  {
   "cell_type": "code",
   "outputs": [
    {
     "data": {
      "text/plain": "[4.6, 4.5, 4.7]"
     },
     "execution_count": 77,
     "metadata": {},
     "output_type": "execute_result"
    }
   ],
   "source": [
    "def get_pois_rating(_ids):\n",
    "    return df_places[df_places['id'].isin(_ids)]['rating'].tolist()\n",
    "get_pois_rating([4, 5, 9])"
   ],
   "metadata": {
    "collapsed": false,
    "ExecuteTime": {
     "end_time": "2024-03-13T04:47:52.339478Z",
     "start_time": "2024-03-13T04:47:52.333800Z"
    }
   },
   "id": "ae2bf14334e4d33",
   "execution_count": 77
  },
  {
   "cell_type": "markdown",
   "source": [
    "Function to get min rating"
   ],
   "metadata": {
    "collapsed": false
   },
   "id": "5975a3458bc19f02"
  },
  {
   "cell_type": "code",
   "outputs": [
    {
     "data": {
      "text/plain": "3.7"
     },
     "execution_count": 14,
     "metadata": {},
     "output_type": "execute_result"
    }
   ],
   "source": [
    "def get_min_rating():\n",
    "    min_series = df_places.min(numeric_only=True)\n",
    "    return min_series['rating']\n",
    "\n",
    "min_rating = get_min_rating()\n",
    "min_rating"
   ],
   "metadata": {
    "collapsed": false,
    "ExecuteTime": {
     "end_time": "2024-03-13T04:28:48.868638Z",
     "start_time": "2024-03-13T04:28:48.862533Z"
    }
   },
   "id": "ab841f5b92cb071f",
   "execution_count": 14
  },
  {
   "cell_type": "markdown",
   "source": [
    "Function to get max rating"
   ],
   "metadata": {
    "collapsed": false
   },
   "id": "8d14c4d154f386dc"
  },
  {
   "cell_type": "code",
   "outputs": [
    {
     "data": {
      "text/plain": "5.0"
     },
     "execution_count": 15,
     "metadata": {},
     "output_type": "execute_result"
    }
   ],
   "source": [
    "def get_max_rating():\n",
    "    max_series = df_places.max(numeric_only=True)\n",
    "    return max_series['rating']\n",
    "\n",
    "max_rating = get_max_rating()\n",
    "max_rating"
   ],
   "metadata": {
    "collapsed": false,
    "ExecuteTime": {
     "end_time": "2024-03-13T04:28:48.873194Z",
     "start_time": "2024-03-13T04:28:48.868638Z"
    }
   },
   "id": "a977cb40d2ad2327",
   "execution_count": 15
  },
  {
   "cell_type": "markdown",
   "source": [
    "Function to get average rating"
   ],
   "metadata": {
    "collapsed": false
   },
   "id": "fa7f462fb93d11ba"
  },
  {
   "cell_type": "code",
   "outputs": [],
   "source": [
    "def get_average_rating(_ids):\n",
    "    return df_places[df_places['id'].isin(_ids)].mean(numeric_only=True)['rating']"
   ],
   "metadata": {
    "collapsed": false,
    "ExecuteTime": {
     "end_time": "2024-03-13T04:28:48.876451Z",
     "start_time": "2024-03-13T04:28:48.873194Z"
    }
   },
   "id": "11630bb2c1ea0238",
   "execution_count": 16
  },
  {
   "cell_type": "markdown",
   "source": [
    "Function to get min cost"
   ],
   "metadata": {
    "collapsed": false
   },
   "id": "dfe81544ea35fc8f"
  },
  {
   "cell_type": "code",
   "outputs": [],
   "source": [
    "def get_min_cost():\n",
    "    return 0"
   ],
   "metadata": {
    "collapsed": false,
    "ExecuteTime": {
     "end_time": "2024-03-13T04:28:48.880157Z",
     "start_time": "2024-03-13T04:28:48.876451Z"
    }
   },
   "id": "543043ad2c117086",
   "execution_count": 17
  },
  {
   "cell_type": "markdown",
   "source": [
    "Function to get max cost"
   ],
   "metadata": {
    "collapsed": false
   },
   "id": "9e3a294b0349b8d9"
  },
  {
   "cell_type": "code",
   "outputs": [
    {
     "data": {
      "text/plain": "11000"
     },
     "execution_count": 18,
     "metadata": {},
     "output_type": "execute_result"
    }
   ],
   "source": [
    "def get_cost(selected_agents):\n",
    "    return df_places[df_places['id'].isin(selected_agents)].sum()['tarif']\n",
    "\n",
    "max_cost = get_cost([1, 4, 6, 45])\n",
    "max_cost"
   ],
   "metadata": {
    "collapsed": false,
    "ExecuteTime": {
     "end_time": "2024-03-13T04:28:48.886955Z",
     "start_time": "2024-03-13T04:28:48.880157Z"
    }
   },
   "id": "6ea88083b8208906",
   "execution_count": 18
  },
  {
   "cell_type": "markdown",
   "source": [
    "Function to get poi duration"
   ],
   "metadata": {
    "collapsed": false
   },
   "id": "99df631e890b1b69"
  },
  {
   "cell_type": "code",
   "outputs": [
    {
     "data": {
      "text/plain": "3600"
     },
     "execution_count": 19,
     "metadata": {},
     "output_type": "execute_result"
    }
   ],
   "source": [
    "def get_poi_duration(_id):\n",
    "    return df_places[df_places['id'] == _id].iloc[0]['durasi']\n",
    "\n",
    "duration = get_poi_duration(2)\n",
    "duration"
   ],
   "metadata": {
    "collapsed": false,
    "ExecuteTime": {
     "end_time": "2024-03-13T04:28:48.891676Z",
     "start_time": "2024-03-13T04:28:48.886955Z"
    }
   },
   "id": "ec79d70f25dc0331",
   "execution_count": 19
  },
  {
   "cell_type": "markdown",
   "source": [
    "Function to get poi opening hour"
   ],
   "metadata": {
    "collapsed": false
   },
   "id": "4c3b3bb5f6ffcdf4"
  },
  {
   "cell_type": "code",
   "outputs": [],
   "source": [
    "def get_poi_opening_hour(_id):\n",
    "    return df_schedule[df_schedule['id_tempat'] == _id].iloc[0]['jam_buka']"
   ],
   "metadata": {
    "collapsed": false,
    "ExecuteTime": {
     "end_time": "2024-03-13T04:28:48.894715Z",
     "start_time": "2024-03-13T04:28:48.891856Z"
    }
   },
   "id": "8bfaea3e90737463",
   "execution_count": 20
  },
  {
   "cell_type": "markdown",
   "source": [
    "Function to get poi closing hour"
   ],
   "metadata": {
    "collapsed": false
   },
   "id": "d51f437dd4b547f7"
  },
  {
   "cell_type": "code",
   "outputs": [],
   "source": [
    "def get_poi_closing_hour(_id):\n",
    "    return df_schedule[df_schedule['id_tempat'] == _id].iloc[0]['jam_tutup']"
   ],
   "metadata": {
    "collapsed": false,
    "ExecuteTime": {
     "end_time": "2024-03-13T04:28:48.899606Z",
     "start_time": "2024-03-13T04:28:48.894715Z"
    }
   },
   "id": "659510aff8b5b2e",
   "execution_count": 21
  },
  {
   "cell_type": "markdown",
   "source": [
    "Function to get travel time between 2 places"
   ],
   "metadata": {
    "collapsed": false
   },
   "id": "49b69574230dced5"
  },
  {
   "cell_type": "code",
   "outputs": [
    {
     "data": {
      "text/plain": "1109"
     },
     "execution_count": 22,
     "metadata": {},
     "output_type": "execute_result"
    }
   ],
   "source": [
    "def get_travel_time(_id1, _id2):\n",
    "    df_filter = df_time_matrix[(df_time_matrix['id_a'] == _id1) & (df_time_matrix['id_b'] == _id2)]\n",
    "    return df_filter.iloc[0]['durasi']\n",
    "\n",
    "get_travel_time(5, 44)"
   ],
   "metadata": {
    "collapsed": false,
    "ExecuteTime": {
     "end_time": "2024-03-13T04:28:48.904794Z",
     "start_time": "2024-03-13T04:28:48.899754Z"
    }
   },
   "id": "8c5629aea17b7c14",
   "execution_count": 22
  },
  {
   "cell_type": "markdown",
   "source": [
    "Function to generate initial population"
   ],
   "metadata": {
    "collapsed": false
   },
   "id": "e1726f314269aa9d"
  },
  {
   "cell_type": "code",
   "outputs": [
    {
     "data": {
      "text/plain": "15"
     },
     "execution_count": 23,
     "metadata": {},
     "output_type": "execute_result"
    }
   ],
   "source": [
    "def generate_initial_population(agent_count, agent_length):\n",
    "    return [[random.random() * 10 for i in range(agent_length)] for j in range(agent_count)]\n",
    "\n",
    "agents = generate_initial_population(AGENT_COUNT, AGENT_LENGTH)\n",
    "len(agents[0])"
   ],
   "metadata": {
    "collapsed": false,
    "ExecuteTime": {
     "end_time": "2024-03-13T04:28:48.909248Z",
     "start_time": "2024-03-13T04:28:48.904794Z"
    }
   },
   "id": "bbf627e5fbeee665",
   "execution_count": 23
  },
  {
   "cell_type": "markdown",
   "source": [
    "Function to get day with fewest poi assigned to it "
   ],
   "metadata": {
    "collapsed": false
   },
   "id": "f680023a346abeb0"
  },
  {
   "cell_type": "code",
   "outputs": [],
   "source": [
    "def get_day_with_fewest_poi(routes, index_ignored):\n",
    "    selected_index = 0\n",
    "    min_poi_assigned = 200\n",
    "    for i in range(len(routes)):\n",
    "        if i not in index_ignored:\n",
    "            if len(routes[i]) < min_poi_assigned:\n",
    "                selected_index = i\n",
    "                min_poi_assigned = len(routes[i])\n",
    "    return selected_index"
   ],
   "metadata": {
    "collapsed": false,
    "ExecuteTime": {
     "end_time": "2024-03-13T04:28:48.912459Z",
     "start_time": "2024-03-13T04:28:48.909248Z"
    }
   },
   "id": "dcd54feca40b68aa",
   "execution_count": 24
  },
  {
   "cell_type": "markdown",
   "source": [
    "Function to check total duration in single day"
   ],
   "metadata": {
    "collapsed": false
   },
   "id": "3c012dd3f0929830"
  },
  {
   "cell_type": "code",
   "outputs": [],
   "source": [
    "def get_single_day_duration(single_day_route):\n",
    "    if len(single_day_route) == 0:\n",
    "        return 0\n",
    "\n",
    "    if len(single_day_route) == 1:\n",
    "        duration = get_travel_time(HOTEL_ID, single_day_route[0])\n",
    "        duration += get_poi_duration(single_day_route[0])\n",
    "        duration += get_travel_time(single_day_route[0], HOTEL_ID)\n",
    "        return duration\n",
    "    \n",
    "    duration = 0\n",
    "    for i in range(len(single_day_route)):\n",
    "        if i == 0: # first poi\n",
    "            duration += get_travel_time(HOTEL_ID, single_day_route[i])\n",
    "            duration += get_poi_duration(single_day_route[i])\n",
    "        elif i != len(single_day_route)-1:\n",
    "            duration += get_travel_time(single_day_route[i], single_day_route[i+1])\n",
    "            duration += get_poi_duration(single_day_route[i+1])\n",
    "        else: # last poi\n",
    "            duration += get_travel_time(single_day_route[i], HOTEL_ID)\n",
    "    \n",
    "    return duration"
   ],
   "metadata": {
    "collapsed": false,
    "ExecuteTime": {
     "end_time": "2024-03-13T04:28:48.917775Z",
     "start_time": "2024-03-13T04:28:48.912528Z"
    }
   },
   "id": "3f458da8446ca905",
   "execution_count": 25
  },
  {
   "cell_type": "markdown",
   "source": [
    "Function to check total multi day itinerary duration"
   ],
   "metadata": {
    "collapsed": false
   },
   "id": "f87e8c5712896bcf"
  },
  {
   "cell_type": "code",
   "outputs": [],
   "source": [
    "def get_multi_day_duration(routes):\n",
    "    durations = 0\n",
    "    for route in routes:\n",
    "        durations += get_single_day_duration(route)\n",
    "    return durations"
   ],
   "metadata": {
    "collapsed": false,
    "ExecuteTime": {
     "end_time": "2024-03-13T04:28:48.921745Z",
     "start_time": "2024-03-13T04:28:48.917775Z"
    }
   },
   "id": "501df07a050b2c59",
   "execution_count": 26
  },
  {
   "cell_type": "markdown",
   "source": [
    "Function to check if poi is able to be assigned to a single day"
   ],
   "metadata": {
    "collapsed": false
   },
   "id": "d1e7b67f55419371"
  },
  {
   "cell_type": "code",
   "outputs": [
    {
     "data": {
      "text/plain": "True"
     },
     "execution_count": 27,
     "metadata": {},
     "output_type": "execute_result"
    }
   ],
   "source": [
    "def check_poi_able_to_be_assigned(single_day_route, poi_id):\n",
    "    sdr = copy.deepcopy(single_day_route)\n",
    "    sdr.append(poi_id)\n",
    "    \n",
    "    last_poi_id = sdr[len(sdr)-1]\n",
    "    single_day_duration = get_single_day_duration(sdr)\n",
    "    single_day_duration -= get_travel_time(last_poi_id, HOTEL_ID)\n",
    "    single_day_duration += DEPART_TIME\n",
    "    \n",
    "    arrival_time_to_poi = single_day_duration + get_travel_time(last_poi_id, poi_id)\n",
    "    departure_time_from_poi = arrival_time_to_poi + get_poi_duration(poi_id)\n",
    "    arrival_time_to_hotel = departure_time_from_poi + get_travel_time(poi_id, HOTEL_ID)\n",
    "\n",
    "    if arrival_time_to_hotel > ARRIVAL_TIME:\n",
    "        return False\n",
    "\n",
    "    if departure_time_from_poi > get_poi_closing_hour(poi_id):\n",
    "        return False\n",
    "\n",
    "    if arrival_time_to_poi < get_poi_opening_hour(poi_id):\n",
    "        return False\n",
    "    \n",
    "    return True\n",
    "\n",
    "check_poi_able_to_be_assigned([1], 4)"
   ],
   "metadata": {
    "collapsed": false,
    "ExecuteTime": {
     "end_time": "2024-03-13T04:28:48.928914Z",
     "start_time": "2024-03-13T04:28:48.921745Z"
    }
   },
   "id": "e6ee931b29ddbfd6",
   "execution_count": 27
  },
  {
   "cell_type": "markdown",
   "source": [
    "Function to check if any poi able to assign"
   ],
   "metadata": {
    "collapsed": false
   },
   "id": "18698adff7ac2e13"
  },
  {
   "cell_type": "code",
   "outputs": [],
   "source": [
    "def check_any_poi_able_to_be_assigned(routes, R, R_assigned):\n",
    "    for _id in R:\n",
    "        if _id not in R_assigned:\n",
    "            for route in routes:\n",
    "                if check_poi_able_to_be_assigned(route, _id):\n",
    "                    return True\n",
    "    return False"
   ],
   "metadata": {
    "collapsed": false,
    "ExecuteTime": {
     "end_time": "2024-03-13T04:28:48.931727Z",
     "start_time": "2024-03-13T04:28:48.928914Z"
    }
   },
   "id": "a7492ea5d16f545d",
   "execution_count": 28
  },
  {
   "cell_type": "markdown",
   "source": [
    "Function to split route with greedy algorithm"
   ],
   "metadata": {
    "collapsed": false
   },
   "id": "76094d7413df7639"
  },
  {
   "cell_type": "code",
   "outputs": [
    {
     "data": {
      "text/plain": "[[1, 95, 61, 7], [57, 45, 77, 65], [94, 72, 37, 39]]"
     },
     "execution_count": 29,
     "metadata": {},
     "output_type": "execute_result"
    }
   ],
   "source": [
    "def greedy_separate_route(agent, selected_poi, days_count):\n",
    "    A = np.argsort(agent)\n",
    "    R = [selected_poi[A[i]] for i in range(len(selected_poi))]\n",
    "    R_assigned = []\n",
    "    \n",
    "    routes = [[] for _ in range(days_count)] # for storing route for each day\n",
    "    is_any_poi_able_to_assign = check_any_poi_able_to_be_assigned(routes, R, R_assigned)\n",
    "    while is_any_poi_able_to_assign: # if any POI able to be assigned\n",
    "        days_included = []\n",
    "        selected_day = get_day_with_fewest_poi(routes, days_included)\n",
    "        poi_has_assigned = False\n",
    "        while not poi_has_assigned:\n",
    "            i = 0\n",
    "            while i < len(R) and not poi_has_assigned:\n",
    "                if check_poi_able_to_be_assigned(routes[selected_day], R[i]) and R[i] not in R_assigned:\n",
    "                    routes[selected_day].append(R[i])\n",
    "                    R_assigned.append(R[i])\n",
    "                    poi_has_assigned = True\n",
    "                i += 1\n",
    "            if not poi_has_assigned:\n",
    "                days_included.append(selected_day)\n",
    "                selected_day = get_day_with_fewest_poi(routes, days_included)\n",
    "        is_any_poi_able_to_assign = check_any_poi_able_to_be_assigned(routes, R, R_assigned)\n",
    "    \n",
    "    return routes\n",
    "\n",
    "agents = generate_initial_population(AGENT_COUNT, AGENT_LENGTH)\n",
    "route_days = greedy_separate_route(agents[0], SELECTED_POI, DAYS_COUNT)\n",
    "route_days"
   ],
   "metadata": {
    "collapsed": false,
    "ExecuteTime": {
     "end_time": "2024-03-13T04:28:49.233574Z",
     "start_time": "2024-03-13T04:28:48.931727Z"
    }
   },
   "id": "74dce4744bd2c386",
   "execution_count": 29
  },
  {
   "cell_type": "markdown",
   "source": [
    "Function to get v value"
   ],
   "metadata": {
    "collapsed": false
   },
   "id": "ccfe018b285d165d"
  },
  {
   "cell_type": "code",
   "outputs": [],
   "source": [
    "def get_v(value, min, max, is_greater_better):\n",
    "    if value < min:\n",
    "        if is_greater_better:\n",
    "            return 0\n",
    "        return 1\n",
    "    if value > max:\n",
    "        if is_greater_better:\n",
    "            return 1\n",
    "        return 0\n",
    "    return (abs(value - min) / (max - min)) if is_greater_better else (abs(max - value) / (max - min))"
   ],
   "metadata": {
    "collapsed": false,
    "ExecuteTime": {
     "end_time": "2024-03-13T04:28:49.236288Z",
     "start_time": "2024-03-13T04:28:49.233574Z"
    }
   },
   "id": "2c2e8b83c224b35c",
   "execution_count": 30
  },
  {
   "cell_type": "markdown",
   "source": [
    "Set parameter for fitness function"
   ],
   "metadata": {
    "collapsed": false
   },
   "id": "b0b927b97b29d784"
  },
  {
   "cell_type": "code",
   "outputs": [],
   "source": [
    "duration_range = [0, 100000]\n",
    "rating_range = [get_min_rating(), get_max_rating()]\n",
    "cost_range = [get_min_cost(), get_cost(SELECTED_POI)]\n",
    "poi_included_range = [1, len(SELECTED_POI)]"
   ],
   "metadata": {
    "collapsed": false,
    "ExecuteTime": {
     "end_time": "2024-03-13T04:28:49.241847Z",
     "start_time": "2024-03-13T04:28:49.236288Z"
    }
   },
   "id": "6cc478d990ac759",
   "execution_count": 31
  },
  {
   "cell_type": "markdown",
   "source": [
    "Fitness function"
   ],
   "metadata": {
    "collapsed": false
   },
   "id": "96fbfdf204b665cd"
  },
  {
   "cell_type": "code",
   "outputs": [
    {
     "data": {
      "text/plain": "1.8322062008492974"
     },
     "execution_count": 32,
     "metadata": {},
     "output_type": "execute_result"
    }
   ],
   "source": [
    "def fitness_function(agent):\n",
    "    routes = greedy_separate_route(agent, SELECTED_POI, DAYS_COUNT)\n",
    "    \n",
    "    duration = get_multi_day_duration(routes)\n",
    "\n",
    "    assigned_ids = []\n",
    "    for day_route in routes:\n",
    "        assigned_ids.extend(day_route)\n",
    "    # df_temp = df_places[df_places['id'].isin(assigned_ids)]\n",
    "    \n",
    "    rating = get_average_rating(assigned_ids)\n",
    "    costs = get_cost(assigned_ids)\n",
    "    \n",
    "    MAUT = 0\n",
    "    MAUT += get_v(duration, duration_range[0], duration_range[1], False)\n",
    "    MAUT += get_v(rating, rating_range[0], rating_range[1], True)\n",
    "    MAUT += get_v(costs, cost_range[0], cost_range[1], False)\n",
    "    MAUT += get_v(len(assigned_ids), poi_included_range[0], poi_included_range[1], True)\n",
    "    return MAUT\n",
    "\n",
    "agents = generate_initial_population(AGENT_COUNT, AGENT_LENGTH)\n",
    "fitness_value = fitness_function(agents[8])\n",
    "fitness_value"
   ],
   "metadata": {
    "collapsed": false,
    "ExecuteTime": {
     "end_time": "2024-03-13T04:28:49.481999Z",
     "start_time": "2024-03-13T04:28:49.241847Z"
    }
   },
   "id": "6d7ca229e0512753",
   "execution_count": 32
  },
  {
   "cell_type": "markdown",
   "source": [
    "Function to get best agent"
   ],
   "metadata": {
    "collapsed": false
   },
   "id": "1465b7dd96289818"
  },
  {
   "cell_type": "code",
   "outputs": [
    {
     "data": {
      "text/plain": "2.4700038208693953"
     },
     "execution_count": 33,
     "metadata": {},
     "output_type": "execute_result"
    }
   ],
   "source": [
    "def get_best_agent(agents):\n",
    "    index = -1\n",
    "    max = 0\n",
    "    i = 0\n",
    "    for agent in agents:\n",
    "        fitness_value = fitness_function(agent)\n",
    "        if fitness_value > max:\n",
    "            max = fitness_value\n",
    "            index = i\n",
    "        i += 1\n",
    "    return (max, agents[index])\n",
    "\n",
    "agents = generate_initial_population(AGENT_COUNT, AGENT_LENGTH)\n",
    "fitness_value, best_agent = get_best_agent(agents)\n",
    "fitness_value"
   ],
   "metadata": {
    "collapsed": false,
    "ExecuteTime": {
     "end_time": "2024-03-13T04:28:52.462714Z",
     "start_time": "2024-03-13T04:28:49.481999Z"
    }
   },
   "id": "df3fd5e6f7769a93",
   "execution_count": 33
  },
  {
   "cell_type": "markdown",
   "source": [
    "WOA function"
   ],
   "metadata": {
    "collapsed": false
   },
   "id": "9c41a2e1ce7003e4"
  },
  {
   "cell_type": "code",
   "outputs": [
    {
     "name": "stdout",
     "output_type": "stream",
     "text": [
      "agent\n",
      "[0, 0, 0, 0, 0, 5.373518046554518, 1.3245565102207546, 2.145205159702279, 3.1849282215822496, 6.274371079422022, 6.999367497054142, 9.300155223169046, 2.6975734877643323, 3.410658388783413, 3.24599910154191]\n",
      "Fitness value :  2.5175081964937713\n"
     ]
    }
   ],
   "source": [
    "def WOA(min_x, max_x, agents):\n",
    "    t = 0\n",
    "\n",
    "    # Fbest : nilai fitness terbaik\n",
    "    # Xbest : agen terbaik\n",
    "    Fbest, Xbest = get_best_agent(agents)\n",
    "    agent_dimension = int(len(Xbest) / DAYS_COUNT) # banyak tempat wisata sesuai preferensi user\n",
    "    fitness_values = []\n",
    "\n",
    "    # Menyimpan nilai fitness untuk setiap agen\n",
    "    for i in range(len(agents)):\n",
    "        fitness_values.append(fitness_function(agents[i]))\n",
    "\n",
    "    # print(\"Initial best fitness = %.5f\" % Fbest)\n",
    "    while t < MAX_ITERATIONS:\n",
    "\n",
    "        a = 2 * (1 - t / MAX_ITERATIONS)\n",
    "        a2 = -1 + t * ((-1)/MAX_ITERATIONS)\n",
    "\n",
    "        i = 0\n",
    "        for agent in agents:\n",
    "            A = 2 * a * random.random() - a\n",
    "            C = 2 * random.random()\n",
    "            b = 1\n",
    "            l = (a2-1)*random.random()+1\n",
    "\n",
    "            D = [0.0 for k in range(agent_dimension)]\n",
    "            D1 = [0.0 for k in range(agent_dimension)]\n",
    "            Xnew = [0.0 for k in range(agent_dimension)]\n",
    "            Xrand = [0.0 for k in range(agent_dimension)]\n",
    "            p = random.random()\n",
    "            if p < 0.5:\n",
    "                if abs(a) >= 1: # search for prey\n",
    "                    p = random.randint(0, AGENT_COUNT-1)\n",
    "                    while (p==i):\n",
    "                        p = random.randint(0, AGENT_COUNT-1)\n",
    "\n",
    "                    Xrand = agents[p]\n",
    "\n",
    "                    for j in range(agent_dimension):\n",
    "                        D[j] = abs(C * Xrand[j] - agent[j])\n",
    "                        Xnew[j] = Xrand[j] - A * D[j]\n",
    "                else: # encircling prey\n",
    "                    for j in range(agent_dimension):\n",
    "                        D[j] = abs(C * Xrand[j] - agent[j])\n",
    "                        Xnew[j] = Xrand[j] - A * D[j]\n",
    "            else: # bubble net attacking\n",
    "                for j in range(agent_dimension):\n",
    "                    D1[j] = abs(Xbest[j] - agent[j])\n",
    "                    Xnew[j] = D1[j] * math.exp(b * l) * math.cos(2 * math.pi * l) + Xbest[j]\n",
    "\n",
    "            for j in range(agent_dimension):\n",
    "                agent[j] = Xnew[j]\n",
    "            i += 1\n",
    "\n",
    "        for i in range(len(agents)):\n",
    "            # jika Xnew < minx atau Xnew > maxx\n",
    "            for j in range(agent_dimension):\n",
    "                agents[i][j] = max(agents[i][j], min_x)\n",
    "                agents[i][j] = min(agents[i][j], max_x)\n",
    "\n",
    "            fitness_values[i] = fitness_function(agents[i])\n",
    "\n",
    "            if (fitness_values[i] > Fbest):\n",
    "                Xbest = copy.copy(agents[i])\n",
    "                Fbest = fitness_values[i]\n",
    "\n",
    "        # print(\"Iteration = \" + str(t) + \" | best fitness = %.5f\" % Fbest)\n",
    "        t += 1\n",
    "    return Xbest, Fbest\n",
    "\n",
    "agents = generate_initial_population(AGENT_COUNT, AGENT_LENGTH)\n",
    "agent, fit_value = WOA(0, 10, agents)\n",
    "print('agent')\n",
    "print(agent)\n",
    "print('Fitness value : ', fit_value)"
   ],
   "metadata": {
    "collapsed": false,
    "ExecuteTime": {
     "end_time": "2024-03-13T04:29:24.570049Z",
     "start_time": "2024-03-13T04:28:52.463718Z"
    }
   },
   "id": "86504dbb8077b720",
   "execution_count": 34
  },
  {
   "cell_type": "markdown",
   "source": [
    "Function to get time line"
   ],
   "metadata": {
    "collapsed": false
   },
   "id": "ff233887ff3816b8"
  },
  {
   "cell_type": "code",
   "outputs": [],
   "source": [
    "def get_time_line(l):\n",
    "    if len(l) == 0:\n",
    "        return []\n",
    "    current_time = datetime(2023, 11, 19, 8, 0, 0)\n",
    "    time_line = [current_time.strftime('%H:%M:%S')]\n",
    "\n",
    "    i = 0\n",
    "    while i < len(l):\n",
    "        if i == 0:\n",
    "            travel_time = get_travel_time(HOTEL_ID, l[i])\n",
    "            time_delta = timedelta(seconds=np.int16(travel_time).item())\n",
    "            current_time += time_delta\n",
    "            time_line.append(current_time.strftime('%H:%M:%S'))\n",
    "        elif i != len(l)-1:\n",
    "            time_spent = get_poi_duration(l[i])\n",
    "            travel_time = get_travel_time(l[i], l[i+1])\n",
    "            time_delta = timedelta(seconds=np.int16(travel_time).item() + np.int16(time_spent).item())\n",
    "            current_time += time_delta\n",
    "            time_line.append(current_time.strftime('%H:%M:%S'))\n",
    "        else:\n",
    "            time_spent = get_poi_duration(l[i])\n",
    "            time_delta = timedelta(seconds=np.int16(time_spent).item())\n",
    "            current_time += time_delta\n",
    "            time_line.append(current_time.strftime('%H:%M:%S'))\n",
    "\n",
    "            travel_time = get_travel_time(l[i], HOTEL_ID)\n",
    "            time_delta = timedelta(seconds=np.int16(travel_time).item())\n",
    "            current_time += time_delta\n",
    "            time_line.append(current_time.strftime('%H:%M:%S'))\n",
    "        i += 1\n",
    "\n",
    "    return time_line"
   ],
   "metadata": {
    "collapsed": false,
    "ExecuteTime": {
     "end_time": "2024-03-13T04:29:24.575091Z",
     "start_time": "2024-03-13T04:29:24.570218Z"
    }
   },
   "id": "e1792267a6c57d61",
   "execution_count": 35
  },
  {
   "cell_type": "markdown",
   "source": [
    "Function to construct solution, output best agent"
   ],
   "metadata": {
    "collapsed": false
   },
   "id": "6334d5426ca0805"
  },
  {
   "cell_type": "code",
   "outputs": [],
   "source": [
    "def construct_solution():\n",
    "    #generate initial population\n",
    "    agents = generate_initial_population(AGENT_COUNT, AGENT_LENGTH)\n",
    "\n",
    "    agents_ = copy.deepcopy(agents)\n",
    "    Xbest, Fbest = WOA(0.0, 10.0, agents_)\n",
    "    route = greedy_separate_route(Xbest, SELECTED_POI, DAYS_COUNT)\n",
    "    fitness_value = fitness_function(Xbest)\n",
    "    # print(f'Fitness value : ${fitness_value}')\n",
    "    duration = get_multi_day_duration(route)\n",
    "    # print('Route : ', route)\n",
    "\n",
    "    output = {'results': []}\n",
    "    for day_route in route:\n",
    "        output['results'].append({\n",
    "            'index': day_route,\n",
    "            'waktu': get_time_line(day_route),\n",
    "            'rating': get_pois_rating(day_route),\n",
    "            'tarif': get_pois_cost(day_route),\n",
    "        })\n",
    "\n",
    "    return output , Fbest"
   ],
   "metadata": {
    "collapsed": false,
    "ExecuteTime": {
     "end_time": "2024-03-13T04:51:53.867254Z",
     "start_time": "2024-03-13T04:51:53.862571Z"
    }
   },
   "id": "93f0dc62eca029ca",
   "execution_count": 83
  },
  {
   "cell_type": "code",
   "outputs": [],
   "source": [
    "output, Fbest = construct_solution()"
   ],
   "metadata": {
    "collapsed": false,
    "ExecuteTime": {
     "end_time": "2024-03-13T04:52:32.698978Z",
     "start_time": "2024-03-13T04:51:54.702713Z"
    }
   },
   "id": "c79468485ded6165",
   "execution_count": 84
  },
  {
   "cell_type": "code",
   "outputs": [
    {
     "data": {
      "text/plain": "{'results': [{'index': [1, 77, 37, 61],\n   'waktu': ['08:00:00',\n    '08:04:00',\n    '10:07:17',\n    '11:35:24',\n    '12:35:24',\n    '12:44:06'],\n   'rating': [4.8, 4.5, 4.3, 4.6],\n   'tarif': [0, 5000, 0, 0]},\n  {'index': [57, 65, 94, 95],\n   'waktu': ['08:00:00',\n    '08:11:28',\n    '11:17:18',\n    '13:01:59',\n    '13:46:59',\n    '14:07:44'],\n   'rating': [4.5, 4.6, 4.3, 4.3],\n   'tarif': [0, 10000, 0, 0]},\n  {'index': [7, 45, 39],\n   'waktu': ['08:00:00', '08:07:38', '10:27:49', '11:27:49', '12:28:44'],\n   'rating': [4.8, 4.6, 4.7],\n   'tarif': [0, 6000, 8000]}]}"
     },
     "execution_count": 85,
     "metadata": {},
     "output_type": "execute_result"
    }
   ],
   "source": [
    "output"
   ],
   "metadata": {
    "collapsed": false,
    "ExecuteTime": {
     "end_time": "2024-03-13T04:52:35.462674Z",
     "start_time": "2024-03-13T04:52:35.459081Z"
    }
   },
   "id": "a51dcabac3e2c9ee",
   "execution_count": 85
  },
  {
   "cell_type": "code",
   "outputs": [
    {
     "data": {
      "text/plain": "2.5376581964937714"
     },
     "execution_count": 86,
     "metadata": {},
     "output_type": "execute_result"
    }
   ],
   "source": [
    "Fbest"
   ],
   "metadata": {
    "collapsed": false,
    "ExecuteTime": {
     "end_time": "2024-03-13T04:52:37.599831Z",
     "start_time": "2024-03-13T04:52:37.597017Z"
    }
   },
   "id": "afd72aebbf2dda4c",
   "execution_count": 86
  },
  {
   "cell_type": "code",
   "outputs": [],
   "source": [],
   "metadata": {
    "collapsed": false,
    "ExecuteTime": {
     "end_time": "2024-03-13T04:29:58.979198Z",
     "start_time": "2024-03-13T04:29:58.976915Z"
    }
   },
   "id": "d498055c1fa3695",
   "execution_count": 39
  }
 ],
 "metadata": {
  "kernelspec": {
   "display_name": "Python 3",
   "language": "python",
   "name": "python3"
  },
  "language_info": {
   "codemirror_mode": {
    "name": "ipython",
    "version": 2
   },
   "file_extension": ".py",
   "mimetype": "text/x-python",
   "name": "python",
   "nbconvert_exporter": "python",
   "pygments_lexer": "ipython2",
   "version": "2.7.6"
  }
 },
 "nbformat": 4,
 "nbformat_minor": 5
}
